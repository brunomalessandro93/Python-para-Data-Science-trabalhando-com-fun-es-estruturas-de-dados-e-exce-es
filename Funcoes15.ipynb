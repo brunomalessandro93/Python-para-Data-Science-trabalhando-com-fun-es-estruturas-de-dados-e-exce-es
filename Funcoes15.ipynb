{
 "cells": [
  {
   "cell_type": "markdown",
   "id": "50bc6c37-8c1c-40b0-934d-7d89d58bf1c0",
   "metadata": {},
   "source": [
    " ## Neste Capitulo vamos aprender sobre as funções"
   ]
  },
  {
   "cell_type": "code",
   "execution_count": 1,
   "id": "74e1bc0f-4365-461d-b49c-ce7dab6d4003",
   "metadata": {},
   "outputs": [
    {
     "data": {
      "text/plain": [
       "{'1° Trimestre': 8.5, '2° Trimestre': 9.5, '3° Trimestre': 7}"
      ]
     },
     "execution_count": 1,
     "metadata": {},
     "output_type": "execute_result"
    }
   ],
   "source": [
    "# Vamos usar a função Built-in function\n",
    "# Vamos usar uma situação na qual uma escola compartilhou as notas de um aluno e calcularemos a média\n",
    "# Notas do(a) estudante\n",
    "\n",
    "notas = {'1° Trimestre':8.5,'2° Trimestre':9.5,'3° Trimestre':7}\n",
    "notas"
   ]
  },
  {
   "cell_type": "code",
   "execution_count": 2,
   "id": "85d16a26-d739-401e-9bc6-4c08640e5ad4",
   "metadata": {},
   "outputs": [
    {
     "data": {
      "text/plain": [
       "25.0"
      ]
     },
     "execution_count": 2,
     "metadata": {},
     "output_type": "execute_result"
    }
   ],
   "source": [
    "# Calculando a soma\n",
    "soma = 0\n",
    "\n",
    "for nota in notas.values():\n",
    "    soma +=nota\n",
    "soma"
   ]
  },
  {
   "cell_type": "code",
   "execution_count": 3,
   "id": "4563dcf0-ecd3-4221-a5bd-38b3424b21bf",
   "metadata": {},
   "outputs": [
    {
     "data": {
      "text/plain": [
       "25.0"
      ]
     },
     "execution_count": 3,
     "metadata": {},
     "output_type": "execute_result"
    }
   ],
   "source": [
    "# Usando a função embutida sum()\n",
    "\n",
    "somatorio = sum(notas.values())\n",
    "somatorio"
   ]
  },
  {
   "cell_type": "code",
   "execution_count": 4,
   "id": "25906106-6eeb-4f7a-88cc-bcf4c862882f",
   "metadata": {},
   "outputs": [
    {
     "data": {
      "text/plain": [
       "3"
      ]
     },
     "execution_count": 4,
     "metadata": {},
     "output_type": "execute_result"
    }
   ],
   "source": [
    "# Usando a função embutida len()\n",
    "\n",
    "qtd_notas = len(notas)\n",
    "qtd_notas"
   ]
  },
  {
   "cell_type": "code",
   "execution_count": 5,
   "id": "ff83f537-8ff3-4e21-bc2c-28c2c0227584",
   "metadata": {},
   "outputs": [
    {
     "data": {
      "text/plain": [
       "8.333333333333334"
      ]
     },
     "execution_count": 5,
     "metadata": {},
     "output_type": "execute_result"
    }
   ],
   "source": [
    "# Calculando a média\n",
    "\n",
    "media = somatorio/qtd_notas\n",
    "media"
   ]
  },
  {
   "cell_type": "code",
   "execution_count": 17,
   "id": "fe54e5ad-da7c-41c7-995a-09d36d1e906b",
   "metadata": {},
   "outputs": [
    {
     "data": {
      "text/plain": [
       "8.3"
      ]
     },
     "execution_count": 17,
     "metadata": {},
     "output_type": "execute_result"
    }
   ],
   "source": [
    "# Arredondando a média usando round()\n",
    "\n",
    "media = somatorio / qtd_notas\n",
    "media = round(media,1)\n",
    "media"
   ]
  },
  {
   "cell_type": "code",
   "execution_count": 23,
   "id": "209fb17d-e399-404a-bffb-de7658e1afbe",
   "metadata": {},
   "outputs": [],
   "source": [
    "# Funções sem parâmetro\n",
    "\n",
    "def media():\n",
    "    calculo = (10+9+8)/3\n",
    "    print(calculo)"
   ]
  },
  {
   "cell_type": "code",
   "execution_count": 24,
   "id": "d18b045b-1d34-4d3b-969a-28f8d0ef574d",
   "metadata": {},
   "outputs": [
    {
     "name": "stdout",
     "output_type": "stream",
     "text": [
      "9.0\n"
     ]
    }
   ],
   "source": [
    "media()"
   ]
  },
  {
   "cell_type": "code",
   "execution_count": 26,
   "id": "5852c845-ce5f-437e-9415-0a98c86fbda1",
   "metadata": {},
   "outputs": [],
   "source": [
    "# Funções com parâmetro\n",
    "\n",
    "def media(nota_1,nota_2,nota_3):\n",
    "    calculo = (nota_1 + nota_2 + nota_3)/3\n",
    "    print(calculo)"
   ]
  },
  {
   "cell_type": "code",
   "execution_count": 27,
   "id": "fd831936-d91b-4f4c-9fd9-1aa81842466e",
   "metadata": {},
   "outputs": [
    {
     "name": "stdout",
     "output_type": "stream",
     "text": [
      "6.0\n"
     ]
    }
   ],
   "source": [
    "media(3,6,9)"
   ]
  },
  {
   "cell_type": "code",
   "execution_count": 29,
   "id": "316359b5-6c8e-484a-a8f0-fa45a2fec943",
   "metadata": {},
   "outputs": [
    {
     "name": "stdout",
     "output_type": "stream",
     "text": [
      "7.0\n"
     ]
    }
   ],
   "source": [
    "# Neste caso como foi criado um parâmetro  ao declarar uma váriavel e atribuindo um valor para cada váriavel, \n",
    "# E colocando essas váriaveis dentro do parâmetro os valores serão calculados\n",
    "nota1 = 8\n",
    "nota2 = 7\n",
    "nota3 = 6\n",
    "media(nota1,nota2,nota3)"
   ]
  },
  {
   "cell_type": "code",
   "execution_count": 30,
   "id": "d8c224c2-d9e2-4db7-9a64-21196306be6a",
   "metadata": {},
   "outputs": [],
   "source": [
    "# Agora vamos calcular a média de um estudante a partir de uma lista\n",
    "# Sendo possível alterar a quantidade de notas e sem impedir que o calculo seja refeito\n",
    "\n",
    "# Notas do(a) estudante\n",
    "\n",
    "notas = [8.5,9.0,6.0,10.0]"
   ]
  },
  {
   "cell_type": "code",
   "execution_count": 31,
   "id": "bc3189dc-cee1-43fb-93ae-dd585aca9922",
   "metadata": {},
   "outputs": [],
   "source": [
    "def media(lista):\n",
    "    calculo = sum(lista) / len(lista)\n",
    "    print(calculo)"
   ]
  },
  {
   "cell_type": "code",
   "execution_count": 50,
   "id": "8323d0ba-d844-4a42-a10e-89d7a23dd54e",
   "metadata": {},
   "outputs": [
    {
     "data": {
      "text/plain": [
       "8.375"
      ]
     },
     "execution_count": 50,
     "metadata": {},
     "output_type": "execute_result"
    }
   ],
   "source": [
    "media(notas)"
   ]
  },
  {
   "cell_type": "code",
   "execution_count": 52,
   "id": "cd7e0868-3e52-4999-827a-32a6f50a5338",
   "metadata": {},
   "outputs": [],
   "source": [
    "resultado = media(notas)"
   ]
  },
  {
   "cell_type": "code",
   "execution_count": 53,
   "id": "7cadf252-a40b-4e72-9c3b-f0ed0efa8db1",
   "metadata": {},
   "outputs": [],
   "source": [
    "# Funções que retornam valores \n",
    "# Vamos reutilizar mas mesmas notas do estudante para fazer o calculo\n",
    "\n",
    "# Notas do(a) estudante\n",
    "\n",
    "notas = [8.5,9.0,6.0,10.0]"
   ]
  },
  {
   "cell_type": "code",
   "execution_count": 54,
   "id": "ad0835ff-99ed-43de-abb5-9cd3087eb96d",
   "metadata": {},
   "outputs": [],
   "source": [
    "def media(lista):\n",
    "    calculo = sum(lista) / len(lista)\n",
    "    return calculo"
   ]
  },
  {
   "cell_type": "code",
   "execution_count": 55,
   "id": "d32ac4fc-f671-45a8-903c-d94a01244528",
   "metadata": {},
   "outputs": [],
   "source": [
    "resultado = media(notas)"
   ]
  },
  {
   "cell_type": "code",
   "execution_count": 56,
   "id": "f2212ad8-5b25-4b0f-9839-f5de4db1aae4",
   "metadata": {},
   "outputs": [
    {
     "data": {
      "text/plain": [
       "8.375"
      ]
     },
     "execution_count": 56,
     "metadata": {},
     "output_type": "execute_result"
    }
   ],
   "source": [
    "resultado"
   ]
  },
  {
   "cell_type": "code",
   "execution_count": 57,
   "id": "7c5cc211-e296-42a0-8f1f-7e436fbbea91",
   "metadata": {},
   "outputs": [],
   "source": [
    "# Agora vamos usar uma situação que a média de um aluno será calculada e se for maior ou igual a 6 será aprovado\n",
    "# Se a média for inferior a 6 será reprovado\n",
    "\n",
    "notas = [6.0,7.0,9.0,5.0]"
   ]
  },
  {
   "cell_type": "code",
   "execution_count": 60,
   "id": "d933127a-f701-47a7-903c-d01ab169ff91",
   "metadata": {},
   "outputs": [],
   "source": [
    "def boletim(lista):\n",
    "    media = sum(lista) / len(lista)\n",
    "\n",
    "    if media >=6:\n",
    "        situacao = \"Aprovado\"\n",
    "    else:\n",
    "        situacao = \"Reprovado\"\n",
    "\n",
    "    return(media,situacao)"
   ]
  },
  {
   "cell_type": "code",
   "execution_count": 61,
   "id": "0f100f0a-7a79-4eac-9af0-08f3a5d79e41",
   "metadata": {},
   "outputs": [
    {
     "data": {
      "text/plain": [
       "(6.75, 'Aprovado')"
      ]
     },
     "execution_count": 61,
     "metadata": {},
     "output_type": "execute_result"
    }
   ],
   "source": [
    "boletim(notas)"
   ]
  },
  {
   "cell_type": "code",
   "execution_count": 62,
   "id": "75712344-8444-4ed6-98aa-f09eb5413d35",
   "metadata": {},
   "outputs": [],
   "source": [
    "# Outro método para separar entre a nota e a situação\n",
    "\n",
    "media, situacao = boletim(notas)"
   ]
  },
  {
   "cell_type": "code",
   "execution_count": 63,
   "id": "1ae95dba-8506-4f4a-8402-68d4358f2b53",
   "metadata": {},
   "outputs": [
    {
     "data": {
      "text/plain": [
       "6.75"
      ]
     },
     "execution_count": 63,
     "metadata": {},
     "output_type": "execute_result"
    }
   ],
   "source": [
    "media"
   ]
  },
  {
   "cell_type": "code",
   "execution_count": 65,
   "id": "4debf98a-d134-45a5-b252-cd6a0c2cdb3d",
   "metadata": {},
   "outputs": [
    {
     "data": {
      "text/plain": [
       "'Aprovado'"
      ]
     },
     "execution_count": 65,
     "metadata": {},
     "output_type": "execute_result"
    }
   ],
   "source": [
    "situacao"
   ]
  },
  {
   "cell_type": "code",
   "execution_count": 66,
   "id": "fb33e28e-f9e7-484d-9319-b613e9d80d84",
   "metadata": {},
   "outputs": [
    {
     "name": "stdout",
     "output_type": "stream",
     "text": [
      "O(a) estudante atingiu uma média de:6.75 e foi Aprovado\n"
     ]
    }
   ],
   "source": [
    "print(f'O(a) estudante atingiu uma média de:{media} e foi {situacao}')"
   ]
  },
  {
   "cell_type": "code",
   "execution_count": 68,
   "id": "ba646d9c-f35f-4559-abb8-b629ec4d4f75",
   "metadata": {},
   "outputs": [
    {
     "name": "stdin",
     "output_type": "stream",
     "text": [
      "Digite a nota do(a) estudante:  7\n"
     ]
    },
    {
     "data": {
      "text/plain": [
       "7.5"
      ]
     },
     "execution_count": 68,
     "metadata": {},
     "output_type": "execute_result"
    }
   ],
   "source": [
    "# Agora vamos usar a função lambda\n",
    "# Primeiro vamos usar a mesma situação de calculos de notas de um aluno e vamos calcular a média ponderada\n",
    "# Vamos solicitar ao usuário a entrada de 3 notas do estudante e retornar a média ponderada desse estudante\n",
    "\n",
    "# Comparando uma função de qualitativo no formato de função para função anônima\n",
    "nota = float(input('Digite a nota do(a) estudante: '))\n",
    "\n",
    "def qualitativo(x):\n",
    "    return x + 0.5\n",
    "qualitativo(nota)"
   ]
  },
  {
   "cell_type": "code",
   "execution_count": 69,
   "id": "f1437aec-9832-4d9e-ac60-a5170cbcb423",
   "metadata": {},
   "outputs": [
    {
     "name": "stdin",
     "output_type": "stream",
     "text": [
      "Digite a nota do(a) estudante: 7\n"
     ]
    },
    {
     "data": {
      "text/plain": [
       "7.5"
      ]
     },
     "execution_count": 69,
     "metadata": {},
     "output_type": "execute_result"
    }
   ],
   "source": [
    "# Testando a mesma função para lambda\n",
    "nota = float(input('Digite a nota do(a) estudante:'))\n",
    "\n",
    "qualitativo = lambda x: x + 0.5\n",
    "\n",
    "qualitativo(nota)"
   ]
  },
  {
   "cell_type": "code",
   "execution_count": 78,
   "id": "08aedc17-d854-4ee5-bd66-c665b1579acb",
   "metadata": {},
   "outputs": [
    {
     "name": "stdin",
     "output_type": "stream",
     "text": [
      "Digite a 1° nota do(a) estudante: 9\n",
      "Digite a 2° nota do(a) estudante: 8\n",
      "Digite a 3° nota do(a) estudante: 9\n"
     ]
    },
    {
     "data": {
      "text/plain": [
       "8.8"
      ]
     },
     "execution_count": 78,
     "metadata": {},
     "output_type": "execute_result"
    }
   ],
   "source": [
    "# Recebendo as notas e calculando a média ponderada.\n",
    "\n",
    "N1 = float(input(\"Digite a 1° nota do(a) estudante:\"))\n",
    "N2 = float(input(\"Digite a 2° nota do(a) estudante:\"))\n",
    "N3 = float(input(\"Digite a 3° nota do(a) estudante:\"))\n",
    "\n",
    "media_ponderada = lambda x,y,z: (x * 3 + y * 2 + z * 5)/10\n",
    "media_estudante = media_ponderada(N1,N2,N3)\n",
    "media_estudante"
   ]
  },
  {
   "cell_type": "code",
   "execution_count": 79,
   "id": "0b95ec63-f422-4ec0-b5db-e1a01b462125",
   "metadata": {},
   "outputs": [
    {
     "name": "stdout",
     "output_type": "stream",
     "text": [
      "O(a) estudante atingiu a média de 8.8\n"
     ]
    }
   ],
   "source": [
    "# Exibindo a média\n",
    "\n",
    "print(f'O(a) estudante atingiu a média de {media_estudante}')"
   ]
  },
  {
   "cell_type": "code",
   "execution_count": 80,
   "id": "785a1e1b-f8c9-483c-8b98-8b696f598aa7",
   "metadata": {},
   "outputs": [],
   "source": [
    "# Mapeando valores\n",
    "# Nesta situação vamos calcular as notas de um estudante e silular uma pontuação extra de 0.5 para cada nota\n",
    "\n",
    "# Notas do(a) estudante\n",
    "notas = [6.0,7.0,9.0,5.5,8.0]\n",
    "qualitativo = 0.5"
   ]
  },
  {
   "cell_type": "code",
   "execution_count": 81,
   "id": "6b639320-914a-460c-9945-d191f12cae01",
   "metadata": {},
   "outputs": [
    {
     "data": {
      "text/plain": [
       "<map at 0x1421484d5d0>"
      ]
     },
     "execution_count": 81,
     "metadata": {},
     "output_type": "execute_result"
    }
   ],
   "source": [
    "# Desta vez não será possível aplicar a função lambda em listas diretamente\n",
    "# Será necessário usarmos a função map \n",
    "\n",
    "notas_atualizadas = map(lambda x: x + qualitativo, notas)\n",
    "notas_atualizadas"
   ]
  },
  {
   "cell_type": "code",
   "execution_count": 82,
   "id": "d930efdc-d791-450f-a7c3-f758d4b11d01",
   "metadata": {},
   "outputs": [],
   "source": [
    "notas_atualizadas = list(notas_atualizadas)"
   ]
  },
  {
   "cell_type": "code",
   "execution_count": 83,
   "id": "3c149858-1d72-4d11-97dd-50fb20764cf9",
   "metadata": {},
   "outputs": [
    {
     "data": {
      "text/plain": [
       "[6.5, 7.5, 9.5, 6.0, 8.5]"
      ]
     },
     "execution_count": 83,
     "metadata": {},
     "output_type": "execute_result"
    }
   ],
   "source": [
    "notas_atualizadas"
   ]
  },
  {
   "cell_type": "code",
   "execution_count": 84,
   "id": "8be3a86e-871b-48ed-ae44-04dbc26e61e0",
   "metadata": {},
   "outputs": [
    {
     "data": {
      "text/plain": [
       "[6.0, 7.0, 9.0, 5.5, 8.0]"
      ]
     },
     "execution_count": 84,
     "metadata": {},
     "output_type": "execute_result"
    }
   ],
   "source": [
    "notas"
   ]
  },
  {
   "cell_type": "code",
   "execution_count": null,
   "id": "55f43e1c-12cd-493a-be44-9ff35de30895",
   "metadata": {},
   "outputs": [],
   "source": []
  }
 ],
 "metadata": {
  "kernelspec": {
   "display_name": "Python 3 (ipykernel)",
   "language": "python",
   "name": "python3"
  },
  "language_info": {
   "codemirror_mode": {
    "name": "ipython",
    "version": 3
   },
   "file_extension": ".py",
   "mimetype": "text/x-python",
   "name": "python",
   "nbconvert_exporter": "python",
   "pygments_lexer": "ipython3",
   "version": "3.12.4"
  }
 },
 "nbformat": 4,
 "nbformat_minor": 5
}
