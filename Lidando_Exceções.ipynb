{
 "cells": [
  {
   "cell_type": "markdown",
   "id": "b6eebafd-df2d-4e41-8e71-25f8f83d34ea",
   "metadata": {},
   "source": [
    "### Neste capitulo vamos trabalhar com exceções"
   ]
  },
  {
   "cell_type": "code",
   "execution_count": 1,
   "id": "5481994d-9710-4919-939b-d96790344069",
   "metadata": {},
   "outputs": [],
   "source": [
    "## Vamos criar uma lista com os nomes do estudantes e pedir para informar.\n",
    "## Caso o estudante não esteja na lista será necessário informar que o estudante não está cadastrado\n",
    "\n",
    "notas = {'João': [8.0, 9.0, 10.0], 'Maria': [9.0, 7.0, 6.0], 'José': [3.4, 7.0, 8.0],'Cláudia': [5.5, 6.6, 8.0], 'Ana': [6.0, 10.0, 9.5], 'Joaquim': [5.5, 7.5, 9.0], 'Júlia': [6.0, 8.0, 7.0], 'Pedro': [3.0, 4.0, 6.0]}"
   ]
  },
  {
   "cell_type": "code",
   "execution_count": 2,
   "id": "15b1d3a2-5f23-41b4-ace0-e86070615216",
   "metadata": {},
   "outputs": [
    {
     "name": "stdin",
     "output_type": "stream",
     "text": [
      "Digite o nome do estudante: Maria\n"
     ]
    },
    {
     "data": {
      "text/plain": [
       "[9.0, 7.0, 6.0]"
      ]
     },
     "execution_count": 2,
     "metadata": {},
     "output_type": "execute_result"
    }
   ],
   "source": [
    "nome = input('Digite o nome do estudante:')\n",
    "resultado = notas[nome]\n",
    "resultado"
   ]
  },
  {
   "cell_type": "code",
   "execution_count": 5,
   "id": "72b7e6e3-4fac-4cbc-bb53-14cae4b8182d",
   "metadata": {},
   "outputs": [
    {
     "name": "stdin",
     "output_type": "stream",
     "text": [
      "Digite o nome do(a) estudante:  Bruno\n"
     ]
    },
    {
     "name": "stdout",
     "output_type": "stream",
     "text": [
      "Estuante não matriculado na turma\n"
     ]
    }
   ],
   "source": [
    "## Usando o except\n",
    "try:\n",
    "    nome = input('Digite o nome do(a) estudante: ')\n",
    "    resultado = notas[nome]\n",
    "except KeyError:\n",
    "    print('Estuante não matriculado na turma')\n",
    "else:\n",
    "    print(resultado)"
   ]
  },
  {
   "cell_type": "code",
   "execution_count": 4,
   "id": "6843327d-f5f9-4100-bc67-560e67e81af8",
   "metadata": {},
   "outputs": [
    {
     "name": "stdin",
     "output_type": "stream",
     "text": [
      "Digite o nome do(a) estudante:  Bruno\n"
     ]
    },
    {
     "name": "stdout",
     "output_type": "stream",
     "text": [
      "Estuante não matriculado na turma\n",
      "A consulta foi encerrada!\n"
     ]
    }
   ],
   "source": [
    "## Usando o finally\n",
    "\n",
    "try:\n",
    "    nome = input('Digite o nome do(a) estudante: ')\n",
    "    resultado = notas[nome]\n",
    "except KeyError:\n",
    "    print('Estuante não matriculado na turma')\n",
    "else:\n",
    "    print(resultado)\n",
    "finally:\n",
    "    print('A consulta foi encerrada!')"
   ]
  },
  {
   "cell_type": "code",
   "execution_count": null,
   "id": "490aacd9-7a9c-4321-8301-f607cd8862c1",
   "metadata": {},
   "outputs": [],
   "source": [
    "## Função para calcular a média de notas passadas por uma lista\n",
    "def media(lista: list=[0]) -> float:\n",
    "''' Função para calcular a média de notas passadas por uma lista\n",
    "\n",
    "lista: list, default[0]\n",
    "    Lista com as notas para calcular a média\n",
    "    return calculo: float\n",
    "    Média calculada\n",
    "'''\n",
    "\n",
    "calculo sum(lista) / len(lista)\n",
    "\n",
    "if len(lista) > 4:\n",
    "    raise ValueError(\"A lista não pode possuir mais de 4 notas.\")\n",
    "    \n",
    "return calculo"
   ]
  },
  {
   "cell_type": "code",
   "execution_count": null,
   "id": "8dc6221e-99be-46e9-a831-e51ee9274efe",
   "metadata": {},
   "outputs": [],
   "source": [
    "notas = [6, 7, 8, 8]\n",
    "resultado = media(notas)\n",
    "resultado"
   ]
  },
  {
   "cell_type": "code",
   "execution_count": null,
   "id": "b3f5aa02-0e06-4a02-9b4f-0f614451116e",
   "metadata": {},
   "outputs": [],
   "source": []
  }
 ],
 "metadata": {
  "kernelspec": {
   "display_name": "Python 3 (ipykernel)",
   "language": "python",
   "name": "python3"
  },
  "language_info": {
   "codemirror_mode": {
    "name": "ipython",
    "version": 3
   },
   "file_extension": ".py",
   "mimetype": "text/x-python",
   "name": "python",
   "nbconvert_exporter": "python",
   "pygments_lexer": "ipython3",
   "version": "3.12.4"
  }
 },
 "nbformat": 4,
 "nbformat_minor": 5
}
