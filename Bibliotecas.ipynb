{
 "cells": [
  {
   "cell_type": "markdown",
   "id": "143411b7-ab83-48de-9629-8a710c6242b3",
   "metadata": {},
   "source": [
    " ## Neste Capitulo vamos aprender importar bibliotecas"
   ]
  },
  {
   "cell_type": "code",
   "execution_count": 2,
   "id": "324e4c4d-c766-4bc1-a0b5-4f1e7caf0bb1",
   "metadata": {},
   "outputs": [
    {
     "name": "stdout",
     "output_type": "stream",
     "text": [
      "Requirement already satisfied: matplotlib in c:\\users\\bruno nascimento\\anaconda3\\lib\\site-packages (3.8.4)\n",
      "Requirement already satisfied: contourpy>=1.0.1 in c:\\users\\bruno nascimento\\anaconda3\\lib\\site-packages (from matplotlib) (1.2.0)\n",
      "Requirement already satisfied: cycler>=0.10 in c:\\users\\bruno nascimento\\anaconda3\\lib\\site-packages (from matplotlib) (0.11.0)\n",
      "Requirement already satisfied: fonttools>=4.22.0 in c:\\users\\bruno nascimento\\anaconda3\\lib\\site-packages (from matplotlib) (4.51.0)\n",
      "Requirement already satisfied: kiwisolver>=1.3.1 in c:\\users\\bruno nascimento\\anaconda3\\lib\\site-packages (from matplotlib) (1.4.4)\n",
      "Requirement already satisfied: numpy>=1.21 in c:\\users\\bruno nascimento\\anaconda3\\lib\\site-packages (from matplotlib) (1.26.4)\n",
      "Requirement already satisfied: packaging>=20.0 in c:\\users\\bruno nascimento\\anaconda3\\lib\\site-packages (from matplotlib) (23.2)\n",
      "Requirement already satisfied: pillow>=8 in c:\\users\\bruno nascimento\\anaconda3\\lib\\site-packages (from matplotlib) (10.3.0)\n",
      "Requirement already satisfied: pyparsing>=2.3.1 in c:\\users\\bruno nascimento\\anaconda3\\lib\\site-packages (from matplotlib) (3.0.9)\n",
      "Requirement already satisfied: python-dateutil>=2.7 in c:\\users\\bruno nascimento\\anaconda3\\lib\\site-packages (from matplotlib) (2.9.0.post0)\n",
      "Requirement already satisfied: six>=1.5 in c:\\users\\bruno nascimento\\anaconda3\\lib\\site-packages (from python-dateutil>=2.7->matplotlib) (1.16.0)\n"
     ]
    }
   ],
   "source": [
    "# Instalando a biblioteca matplotlib pelo pip\n",
    "\n",
    "!pip install matplotlib\n"
   ]
  },
  {
   "cell_type": "code",
   "execution_count": 8,
   "id": "95212cd6-4909-440b-ba96-5bc9d342dba0",
   "metadata": {},
   "outputs": [
    {
     "name": "stdout",
     "output_type": "stream",
     "text": [
      "Requirement already satisfied: matplotlib==3.8.4 in c:\\users\\bruno nascimento\\anaconda3\\lib\\site-packages (3.8.4)\n",
      "Requirement already satisfied: contourpy>=1.0.1 in c:\\users\\bruno nascimento\\anaconda3\\lib\\site-packages (from matplotlib==3.8.4) (1.2.0)\n",
      "Requirement already satisfied: cycler>=0.10 in c:\\users\\bruno nascimento\\anaconda3\\lib\\site-packages (from matplotlib==3.8.4) (0.11.0)\n",
      "Requirement already satisfied: fonttools>=4.22.0 in c:\\users\\bruno nascimento\\anaconda3\\lib\\site-packages (from matplotlib==3.8.4) (4.51.0)\n",
      "Requirement already satisfied: kiwisolver>=1.3.1 in c:\\users\\bruno nascimento\\anaconda3\\lib\\site-packages (from matplotlib==3.8.4) (1.4.4)\n",
      "Requirement already satisfied: numpy>=1.21 in c:\\users\\bruno nascimento\\anaconda3\\lib\\site-packages (from matplotlib==3.8.4) (1.26.4)\n",
      "Requirement already satisfied: packaging>=20.0 in c:\\users\\bruno nascimento\\anaconda3\\lib\\site-packages (from matplotlib==3.8.4) (23.2)\n",
      "Requirement already satisfied: pillow>=8 in c:\\users\\bruno nascimento\\anaconda3\\lib\\site-packages (from matplotlib==3.8.4) (10.3.0)\n",
      "Requirement already satisfied: pyparsing>=2.3.1 in c:\\users\\bruno nascimento\\anaconda3\\lib\\site-packages (from matplotlib==3.8.4) (3.0.9)\n",
      "Requirement already satisfied: python-dateutil>=2.7 in c:\\users\\bruno nascimento\\anaconda3\\lib\\site-packages (from matplotlib==3.8.4) (2.9.0.post0)\n",
      "Requirement already satisfied: six>=1.5 in c:\\users\\bruno nascimento\\anaconda3\\lib\\site-packages (from python-dateutil>=2.7->matplotlib==3.8.4) (1.16.0)\n"
     ]
    }
   ],
   "source": [
    "# Instalando uma versão específica do matplotlib \n",
    "!pip install matplotlib==3.8.4"
   ]
  },
  {
   "cell_type": "code",
   "execution_count": 6,
   "id": "38d73a48-5be1-407c-aec3-548fb0d5ad6d",
   "metadata": {},
   "outputs": [],
   "source": [
    "# Importando uma biblioteca sem alias\n",
    "import matplotlib"
   ]
  },
  {
   "cell_type": "code",
   "execution_count": 7,
   "id": "0a7c8191-d811-42db-8677-0e4f12017cd2",
   "metadata": {},
   "outputs": [
    {
     "data": {
      "text/plain": [
       "'3.8.4'"
      ]
     },
     "execution_count": 7,
     "metadata": {},
     "output_type": "execute_result"
    }
   ],
   "source": [
    "matplotlib.__version__"
   ]
  },
  {
   "cell_type": "code",
   "execution_count": 10,
   "id": "67bb69c9-b041-4437-ae5b-9e224c9bbe88",
   "metadata": {},
   "outputs": [],
   "source": [
    "# Importando uma biblioteca com alias\n",
    "\n",
    "import matplotlib.pyplot as plt"
   ]
  },
  {
   "cell_type": "code",
   "execution_count": 11,
   "id": "7cff88af-32d6-4531-bbe1-45edba0172b0",
   "metadata": {},
   "outputs": [],
   "source": [
    "plt.show()"
   ]
  },
  {
   "cell_type": "markdown",
   "id": "9ad7a40f-b35b-4ac2-a27e-9d401688cec9",
   "metadata": {},
   "source": [
    "### Vamos testar a biblioteca matplotlib para um exemplo de médias  de estudantes de uma classe."
   ]
  },
  {
   "cell_type": "code",
   "execution_count": 13,
   "id": "ddbb6f81-07c8-4a3c-a4fe-6f939cf5e4e9",
   "metadata": {},
   "outputs": [],
   "source": [
    "### importando a biblioteca novamente\n",
    "\n",
    "import matplotlib.pyplot as plt"
   ]
  },
  {
   "cell_type": "code",
   "execution_count": 14,
   "id": "93b269af-e730-4e4d-9253-cac567048506",
   "metadata": {},
   "outputs": [],
   "source": [
    "# Vamos criar duas listas para executar a média \n",
    "\n",
    "estudantes = ['João','Maria','José']\n",
    "notas = [8.5,9,6.5]"
   ]
  },
  {
   "cell_type": "code",
   "execution_count": 17,
   "id": "bcf3fb1d-8be9-4c4c-89f3-b3efac196192",
   "metadata": {},
   "outputs": [
    {
     "data": {
      "text/plain": [
       "<BarContainer object of 3 artists>"
      ]
     },
     "execution_count": 17,
     "metadata": {},
     "output_type": "execute_result"
    },
    {
     "data": {
      "image/png": "[encoded data removed]",
      "text/plain": [
       "<Figure size 640x480 with 1 Axes>"
      ]
     },
     "metadata": {},
     "output_type": "display_data"
    }
   ],
   "source": [
    "plt.bar(x = estudantes, height = notas)"
   ]
  },
  {
   "cell_type": "code",
   "execution_count": 18,
   "id": "aa2dad82-45b3-440c-809d-7289579533ac",
   "metadata": {},
   "outputs": [],
   "source": [
    "# Agora vamos usar a função randon e acrescentar mais um aluno para a lista\n",
    "\n",
    "estudantes_2 = ['João','Maria','José','Ana']"
   ]
  },
  {
   "cell_type": "code",
   "execution_count": 23,
   "id": "c5ef7bc1-d498-4f87-91b5-d5d8d7e9cc8f",
   "metadata": {},
   "outputs": [],
   "source": [
    "# Importanto uma função específica de uma biblioteca\n",
    "\n",
    "from random import choice"
   ]
  },
  {
   "cell_type": "code",
   "execution_count": 21,
   "id": "83f874b6-6956-41fa-be41-fd562480e3c0",
   "metadata": {},
   "outputs": [
    {
     "name": "stdout",
     "output_type": "stream",
     "text": [
      "Help on method choice in module random:\n",
      "\n",
      "choice(seq) method of random.Random instance\n",
      "    Choose a random element from a non-empty sequence.\n",
      "\n"
     ]
    }
   ],
   "source": [
    "help(choice)"
   ]
  },
  {
   "cell_type": "code",
   "execution_count": 27,
   "id": "42a6c67f-007c-4739-8848-4cb93697551e",
   "metadata": {},
   "outputs": [
    {
     "data": {
      "text/plain": [
       "'Ana'"
      ]
     },
     "execution_count": 27,
     "metadata": {},
     "output_type": "execute_result"
    }
   ],
   "source": [
    "# Aqui usaremos a função choice para escolher um elemento da segunda lista criada e apresentar a primeira lista\n",
    "\n",
    "estudante = choice(estudantes_2)\n",
    "estudante"
   ]
  },
  {
   "cell_type": "code",
   "execution_count": null,
   "id": "b296e858-d333-4365-8d15-83217f25da73",
   "metadata": {},
   "outputs": [],
   "source": []
  },
  {
   "cell_type": "code",
   "execution_count": null,
   "id": "4e937d64-2671-423b-a322-b38ce742b1d7",
   "metadata": {},
   "outputs": [],
   "source": []
  }
 ],
 "metadata": {
  "kernelspec": {
   "display_name": "Python 3 (ipykernel)",
   "language": "python",
   "name": "python3"
  },
  "language_info": {
   "codemirror_mode": {
    "name": "ipython",
    "version": 3
   },
   "file_extension": ".py",
   "mimetype": "text/x-python",
   "name": "python",
   "nbconvert_exporter": "python",
   "pygments_lexer": "ipython3",
   "version": "3.12.4"
  }
 },
 "nbformat": 4,
 "nbformat_minor": 5
}
