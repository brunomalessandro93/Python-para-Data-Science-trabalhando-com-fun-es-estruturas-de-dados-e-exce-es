{
 "cells": [
  {
   "cell_type": "markdown",
   "id": "7fd82637-a8d2-411b-a1e3-9f263384fa84",
   "metadata": {},
   "source": [
    " ## Neste Capitulo vamos aprender sobre as Estruturas de Dados"
   ]
  },
  {
   "cell_type": "code",
   "execution_count": 2,
   "id": "c462e054-8d60-42c6-8b76-8f20e4ce33ca",
   "metadata": {},
   "outputs": [],
   "source": [
    "## Vamos criar uma lista com duas os nomes dos alunos e as notas de depois vamos criar duas listas para separar\n",
    "## Lista de Lista\n",
    "\n",
    "notas_turma = ['João',8.0,9.0,10.0,'Maria',9.0,7.0,6.0,'José',3.4,7.0,7.0,'Cláudia',5.5,6.6,8.0,'Ana',6.0,10.0,9.5]"
   ]
  },
  {
   "cell_type": "code",
   "execution_count": 3,
   "id": "51911337-4c2c-41b5-91ce-cf43c2d47b14",
   "metadata": {},
   "outputs": [],
   "source": [
    "nomes = []\n",
    "notas_juntas = []\n",
    "\n",
    "for i in range(len(notas_turma)):\n",
    "    if i % 4 ==0:\n",
    "        nomes.append(notas_turma[i])\n",
    "    else:\n",
    "        notas_juntas.append(notas_turma[i])"
   ]
  },
  {
   "cell_type": "code",
   "execution_count": 4,
   "id": "b8239847-b0ce-432f-af6d-a3a530a41c78",
   "metadata": {},
   "outputs": [
    {
     "data": {
      "text/plain": [
       "['João', 'Maria', 'José', 'Cláudia', 'Ana']"
      ]
     },
     "execution_count": 4,
     "metadata": {},
     "output_type": "execute_result"
    }
   ],
   "source": [
    "nomes"
   ]
  },
  {
   "cell_type": "code",
   "execution_count": 5,
   "id": "c83ae08f-a1a8-47e5-b9b9-c2252ee3ab9d",
   "metadata": {},
   "outputs": [
    {
     "data": {
      "text/plain": [
       "[8.0, 9.0, 10.0, 9.0, 7.0, 6.0, 3.4, 7.0, 7.0, 5.5, 6.6, 8.0, 6.0, 10.0, 9.5]"
      ]
     },
     "execution_count": 5,
     "metadata": {},
     "output_type": "execute_result"
    }
   ],
   "source": [
    "notas_juntas"
   ]
  },
  {
   "cell_type": "code",
   "execution_count": 6,
   "id": "a94ddbd1-90b1-4db9-854a-e1290819115d",
   "metadata": {},
   "outputs": [],
   "source": [
    "notas = []\n",
    "\n",
    "for i in range(0, len(notas_juntas), 3):\n",
    "    notas.append([notas_juntas[i], notas_juntas[i+1],notas_juntas[i+2]])"
   ]
  },
  {
   "cell_type": "code",
   "execution_count": 7,
   "id": "915f28cd-46d7-4154-b0de-af76195a7089",
   "metadata": {},
   "outputs": [
    {
     "data": {
      "text/plain": [
       "[[8.0, 9.0, 10.0],\n",
       " [9.0, 7.0, 6.0],\n",
       " [3.4, 7.0, 7.0],\n",
       " [5.5, 6.6, 8.0],\n",
       " [6.0, 10.0, 9.5]]"
      ]
     },
     "execution_count": 7,
     "metadata": {},
     "output_type": "execute_result"
    }
   ],
   "source": [
    "notas"
   ]
  },
  {
   "cell_type": "code",
   "execution_count": 8,
   "id": "4cc3d312-1048-4f4e-91b1-308d96b94cd0",
   "metadata": {},
   "outputs": [
    {
     "data": {
      "text/plain": [
       "[8.0, 9.0, 10.0]"
      ]
     },
     "execution_count": 8,
     "metadata": {},
     "output_type": "execute_result"
    }
   ],
   "source": [
    "## Vamos buscar todas as notas do João\n",
    "notas[0]"
   ]
  },
  {
   "cell_type": "code",
   "execution_count": 9,
   "id": "2bc09936-613c-4019-881b-026ea78deeb2",
   "metadata": {},
   "outputs": [
    {
     "data": {
      "text/plain": [
       "10.0"
      ]
     },
     "execution_count": 9,
     "metadata": {},
     "output_type": "execute_result"
    }
   ],
   "source": [
    "## Agora vamos buscar a última nota do João\n",
    "\n",
    "notas[0][2]"
   ]
  },
  {
   "cell_type": "code",
   "execution_count": 10,
   "id": "993463d3-3842-44bc-912d-e011a0050f3e",
   "metadata": {},
   "outputs": [
    {
     "data": {
      "text/plain": [
       "['João', 'Maria', 'José', 'Claudia', 'Ana']"
      ]
     },
     "execution_count": 10,
     "metadata": {},
     "output_type": "execute_result"
    }
   ],
   "source": [
    "## Lista de Tuplas\n",
    "## Vamos criar uma lista com os nomes dos alunos e atribuir id para cada um dos estudantes\n",
    "\n",
    "estudantes = ['João','Maria','José','Claudia','Ana']\n",
    "estudantes"
   ]
  },
  {
   "cell_type": "code",
   "execution_count": 11,
   "id": "411eb718-e3d0-4d6c-bc41-609339d99de0",
   "metadata": {},
   "outputs": [],
   "source": [
    "from random import randint\n",
    "\n",
    "def gera_codigo():\n",
    "    return str(randint(0,999))"
   ]
  },
  {
   "cell_type": "code",
   "execution_count": 12,
   "id": "819bda22-0f42-479a-962d-c3353a89e422",
   "metadata": {},
   "outputs": [
    {
     "data": {
      "text/plain": [
       "[('João', 'J726'),\n",
       " ('Maria', 'M254'),\n",
       " ('José', 'J687'),\n",
       " ('Claudia', 'C320'),\n",
       " ('Ana', 'A378')]"
      ]
     },
     "execution_count": 12,
     "metadata": {},
     "output_type": "execute_result"
    }
   ],
   "source": [
    "codigo_estudantes = []\n",
    "\n",
    "for i in range(len(estudantes)):\n",
    "    codigo_estudantes.append((estudantes[i], estudantes[i][0] + gera_codigo()))\n",
    "codigo_estudantes"
   ]
  },
  {
   "cell_type": "code",
   "execution_count": 13,
   "id": "de542838-b04c-4b3a-96df-b18a24349a04",
   "metadata": {},
   "outputs": [],
   "source": [
    "## List comprehension\n",
    "## Nesta situação vamos buscar uma lista com as listas das notas dos estudantes e calcularemos a média\n",
    "\n",
    "notas = [[8.0,9.0,10.0],[9.0,7.0,6.0],[3.4,7.0,7.0],[5.5,6.6,8.8],[6.0,10.0,9.5]]"
   ]
  },
  {
   "cell_type": "code",
   "execution_count": 14,
   "id": "6ba5081a-bfe0-4778-958e-4bf5e5ccf0bd",
   "metadata": {},
   "outputs": [],
   "source": [
    "def media(lista: list=[0]) -> float:\n",
    "    calculo = sum(lista) / len(lista)\n",
    "    return calculo"
   ]
  },
  {
   "cell_type": "code",
   "execution_count": 15,
   "id": "faecef52-7c4a-4db0-bd24-013928d64ec8",
   "metadata": {},
   "outputs": [
    {
     "data": {
      "text/plain": [
       "[9.0, 7.3, 5.8, 7.0, 8.5]"
      ]
     },
     "execution_count": 15,
     "metadata": {},
     "output_type": "execute_result"
    }
   ],
   "source": [
    "medias = [round(media(nota),1) for nota in notas]\n",
    "medias"
   ]
  },
  {
   "cell_type": "code",
   "execution_count": 21,
   "id": "14bb997d-f8d2-4422-8585-e664d49979ad",
   "metadata": {},
   "outputs": [],
   "source": [
    "## Agora vamos buscar a lista com os nomes dos estudantes junto com a lista da média e calcular a média maior que 8.0 para concorrer a uma bolsa\n",
    " \n",
    "nomes = [('João', 'J726'),('Maria', 'M254'),('José', 'J687'),('Claudia', 'C320'),('Ana', 'A378')]\n",
    "medias = [9.0, 7.3, 5.8, 7.0, 8.5]"
   ]
  },
  {
   "cell_type": "code",
   "execution_count": 22,
   "id": "d2ee374d-a6be-4778-8fd9-91ca5bf2cc19",
   "metadata": {},
   "outputs": [
    {
     "data": {
      "text/plain": [
       "['João', 'Maria', 'José', 'Claudia', 'Ana']"
      ]
     },
     "execution_count": 22,
     "metadata": {},
     "output_type": "execute_result"
    }
   ],
   "source": [
    "# Gerando a lista de nomes (extraindo da tupla)\n",
    "\n",
    "nomes = [nome[0] for nome in nomes]\n",
    "nomes"
   ]
  },
  {
   "cell_type": "code",
   "execution_count": 23,
   "id": "f889bfff-83cc-48f8-822f-25ee7af86fc2",
   "metadata": {},
   "outputs": [
    {
     "data": {
      "text/plain": [
       "[('João', 9.0), ('Maria', 7.3), ('José', 5.8), ('Claudia', 7.0), ('Ana', 8.5)]"
      ]
     },
     "execution_count": 23,
     "metadata": {},
     "output_type": "execute_result"
    }
   ],
   "source": [
    "estudantes = list(zip(nomes, medias))\n",
    "estudantes"
   ]
  },
  {
   "cell_type": "code",
   "execution_count": 24,
   "id": "e9dc765e-3b11-485b-aff3-4ac678b0efdb",
   "metadata": {},
   "outputs": [
    {
     "data": {
      "text/plain": [
       "['João', 'Ana']"
      ]
     },
     "execution_count": 24,
     "metadata": {},
     "output_type": "execute_result"
    }
   ],
   "source": [
    "# Gerando a lista de pessoas candidatas a bolsa\n",
    "\n",
    "candidatos = [estudante[0] for estudante in estudantes if estudante[1] >=8.0]\n",
    "candidatos"
   ]
  },
  {
   "cell_type": "code",
   "execution_count": 25,
   "id": "411106c7-f815-4de1-aab1-43b7eff9a14c",
   "metadata": {},
   "outputs": [],
   "source": [
    "## List comprehension com if-else\n",
    "\n",
    "nomes = [('João', 'J726'),('Maria', 'M254'),('José', 'J687'),('Claudia', 'C320'),('Ana', 'A378')]\n",
    "notas = [[8.0,9.0,10.0],[9.0,7.0,6.0],[3.4,7.0,7.0],[5.5,6.6,8.8],[6.0,10.0,9.5]]\n",
    "medias = [9.0, 7.3, 5.8, 7.0, 8.5]"
   ]
  },
  {
   "cell_type": "code",
   "execution_count": 27,
   "id": "ab2a1ef5-016e-4530-92ba-be7cbc2fb3ce",
   "metadata": {},
   "outputs": [
    {
     "data": {
      "text/plain": [
       "['Aprovado(a)', 'Aprovado(a)', 'Reprovado', 'Aprovado(a)', 'Aprovado(a)']"
      ]
     },
     "execution_count": 27,
     "metadata": {},
     "output_type": "execute_result"
    }
   ],
   "source": [
    "situacao = ['Aprovado(a)' if media >=6 else 'Reprovado' for media in medias]\n",
    "situacao"
   ]
  },
  {
   "cell_type": "code",
   "execution_count": 29,
   "id": "e9448ada-daf5-4b2e-b995-93e21fee8f9e",
   "metadata": {},
   "outputs": [
    {
     "data": {
      "text/plain": [
       "[[('João', 'J726'),\n",
       "  ('Maria', 'M254'),\n",
       "  ('José', 'J687'),\n",
       "  ('Claudia', 'C320'),\n",
       "  ('Ana', 'A378')],\n",
       " [[8.0, 9.0, 10.0],\n",
       "  [9.0, 7.0, 6.0],\n",
       "  [3.4, 7.0, 7.0],\n",
       "  [5.5, 6.6, 8.8],\n",
       "  [6.0, 10.0, 9.5]],\n",
       " [9.0, 7.3, 5.8, 7.0, 8.5],\n",
       " ['Aprovado(a)', 'Aprovado(a)', 'Reprovado', 'Aprovado(a)', 'Aprovado(a)']]"
      ]
     },
     "execution_count": 29,
     "metadata": {},
     "output_type": "execute_result"
    }
   ],
   "source": [
    "cadastro =  [x for x in [nomes,notas, medias, situacao]]\n",
    "cadastro"
   ]
  },
  {
   "cell_type": "code",
   "execution_count": 30,
   "id": "ba397bce-6900-4cc6-b76a-45e1a24a4512",
   "metadata": {},
   "outputs": [
    {
     "data": {
      "text/plain": [
       "[[('João', 'J726'),\n",
       "  ('Maria', 'M254'),\n",
       "  ('José', 'J687'),\n",
       "  ('Claudia', 'C320'),\n",
       "  ('Ana', 'A378')],\n",
       " [[8.0, 9.0, 10.0],\n",
       "  [9.0, 7.0, 6.0],\n",
       "  [3.4, 7.0, 7.0],\n",
       "  [5.5, 6.6, 8.8],\n",
       "  [6.0, 10.0, 9.5]],\n",
       " [9.0, 7.3, 5.8, 7.0, 8.5],\n",
       " ['Aprovado(a)', 'Aprovado(a)', 'Reprovado', 'Aprovado(a)', 'Aprovado(a)']]"
      ]
     },
     "execution_count": 30,
     "metadata": {},
     "output_type": "execute_result"
    }
   ],
   "source": [
    "lista_completa = [nomes, notas, medias, situacao]\n",
    "lista_completa"
   ]
  },
  {
   "cell_type": "code",
   "execution_count": null,
   "id": "a7e35081-baf9-4efc-8a11-fdfcdb9ad238",
   "metadata": {},
   "outputs": [],
   "source": []
  }
 ],
 "metadata": {
  "kernelspec": {
   "display_name": "Python 3 (ipykernel)",
   "language": "python",
   "name": "python3"
  },
  "language_info": {
   "codemirror_mode": {
    "name": "ipython",
    "version": 3
   },
   "file_extension": ".py",
   "mimetype": "text/x-python",
   "name": "python",
   "nbconvert_exporter": "python",
   "pygments_lexer": "ipython3",
   "version": "3.12.4"
  }
 },
 "nbformat": 4,
 "nbformat_minor": 5
}
